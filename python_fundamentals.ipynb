{
  "nbformat": 4,
  "nbformat_minor": 0,
  "metadata": {
    "colab": {
      "name": "python-fundamentals.ipynb",
      "provenance": [],
      "authorship_tag": "ABX9TyP5yWFAkUZTIH69iXF9D7lt",
      "include_colab_link": true
    },
    "kernelspec": {
      "name": "python3",
      "display_name": "Python 3"
    },
    "language_info": {
      "name": "python"
    }
  },
  "cells": [
    {
      "cell_type": "markdown",
      "metadata": {
        "id": "view-in-github",
        "colab_type": "text"
      },
      "source": [
        "<a href=\"https://colab.research.google.com/github/KHS1225/data-science-repo/blob/master/python_fundamentals.ipynb\" target=\"_parent\"><img src=\"https://colab.research.google.com/assets/colab-badge.svg\" alt=\"Open In Colab\"/></a>"
      ]
    },
    {
      "cell_type": "markdown",
      "source": [
        "### Strings"
      ],
      "metadata": {
        "id": "ZqVwy7H1NTCQ"
      }
    },
    {
      "cell_type": "code",
      "execution_count": 18,
      "metadata": {
        "colab": {
          "base_uri": "https://localhost:8080/",
          "height": 35
        },
        "id": "w-7wsV2CLkYh",
        "outputId": "7c26dfe3-efa5-4fd4-88bc-8c1a8bc98fb7"
      },
      "outputs": [
        {
          "output_type": "execute_result",
          "data": {
            "application/vnd.google.colaboratory.intrinsic+json": {
              "type": "string"
            },
            "text/plain": [
              "'Hello Universe This is my String.'"
            ]
          },
          "metadata": {},
          "execution_count": 18
        }
      ],
      "source": [
        "message = 'Hello World This is my String.'\n",
        "\n",
        "len(message)\n",
        "message[0]\n",
        "message[1:5]\n",
        "message[:5]\n",
        "message[1:]\n",
        "\n",
        "# changes are not inplace\n",
        "message.capitalize()  # first upper, rest lower\n",
        "message.upper()\n",
        "message.lower()\n",
        "message.count('l')\n",
        "message.find('o')  # -1 if doesn't exist\n",
        "message.replace('World', 'Universe')\n",
        "\n",
        "dir(message)  # dir(str)\n",
        "help(str)\n",
        "help(str.casefold)\n",
        "\n",
        "# 3 ways of formatting: + .format() f-strings"
      ]
    },
    {
      "cell_type": "markdown",
      "source": [
        "### Numerical Data"
      ],
      "metadata": {
        "id": "r7LiBA_LTuta"
      }
    },
    {
      "cell_type": "code",
      "source": [
        "num = 3.14\n",
        "\n",
        "type(num)\n",
        "num // 3  # floor division - drop decimal from result\n",
        "2 % 2 == 0\n",
        "# += is syntaic sugar\n",
        "abs(-3)\n",
        "round(3.75, 1)\n",
        "int('100')"
      ],
      "metadata": {
        "colab": {
          "base_uri": "https://localhost:8080/"
        },
        "id": "V4h0a0YrNVDw",
        "outputId": "aad40a74-a836-4db9-e2db-dfb420e5ce1e"
      },
      "execution_count": 2,
      "outputs": [
        {
          "output_type": "execute_result",
          "data": {
            "text/plain": [
              "100"
            ]
          },
          "metadata": {},
          "execution_count": 2
        }
      ]
    },
    {
      "cell_type": "markdown",
      "source": [
        "### Data Structures"
      ],
      "metadata": {
        "id": "EFJST90YT198"
      }
    },
    {
      "cell_type": "code",
      "source": [
        "courses = ['History', 'Math', 'Physics', 'CompSci']\n",
        "\n",
        "# len() and indexing\n",
        "courses.append('Art')\n",
        "courses.insert(0, 'English')\n",
        "courses.extend(['Chemistry', 'Biology'])\n",
        "courses.remove('Math')\n",
        "last_element_removed = courses.pop()\n",
        "courses.reverse()\n",
        "courses.sort()  # alphabetical order, numbers - 1, 2, 3... ascending\n",
        "\n",
        "numbers = list(range(10))\n",
        "numbers.sort(reverse=True)  # sort by order and descending order\n",
        "sorted_numbers = sorted(courses, reverse=True)\n",
        "min(numbers)\n",
        "max(numbers)\n",
        "sum(numbers)\n",
        "\n",
        "courses.index('Physics')\n",
        "has_art = 'Art' in courses\n",
        "\n",
        "for idx, course in enumerate(courses, start=1):\n",
        "  print(f'{idx}: {course}')\n",
        "\n",
        "course_str = '-'.join(courses)\n",
        "new_list = course_str.split('-')"
      ],
      "metadata": {
        "colab": {
          "base_uri": "https://localhost:8080/"
        },
        "id": "Iz54eM8FOCyv",
        "outputId": "d65dd83a-40c7-43ab-89e2-86eddd1bd781"
      },
      "execution_count": 3,
      "outputs": [
        {
          "output_type": "stream",
          "name": "stdout",
          "text": [
            "1: Art\n",
            "2: Chemistry\n",
            "3: CompSci\n",
            "4: English\n",
            "5: History\n",
            "6: Physics\n"
          ]
        }
      ]
    },
    {
      "cell_type": "code",
      "source": [
        "courses_2 = list(courses)  # if run the same cell again, courses will be a tuple\n",
        "courses_2[0] = 'Advanced Art'  # changes `courses` because passing by reference\n",
        "\n",
        "courses = tuple(courses)\n",
        "courses_2 = courses\n",
        "\n",
        "# courses_2[0] = 'Hello', throws error\n",
        "\n",
        "cs_courses = set(courses)\n",
        "art_courses = {'History', 'Math', 'Art', 'Design'}\n",
        "\n",
        "# optimized comparisons\n",
        "'History' in cs_courses\n",
        "cs_courses.intersection(art_courses)  # and\n",
        "cs_courses.difference(art_courses)\n",
        "cs_courses.union(art_courses)  # or"
      ],
      "metadata": {
        "colab": {
          "base_uri": "https://localhost:8080/"
        },
        "id": "T7LveZH6Puv6",
        "outputId": "4909c40b-b52b-4fab-a183-7e12d39c21fa"
      },
      "execution_count": 12,
      "outputs": [
        {
          "output_type": "execute_result",
          "data": {
            "text/plain": [
              "{'Advanced Art',\n",
              " 'Art',\n",
              " 'Chemistry',\n",
              " 'CompSci',\n",
              " 'Design',\n",
              " 'English',\n",
              " 'History',\n",
              " 'Math',\n",
              " 'Physics'}"
            ]
          },
          "metadata": {},
          "execution_count": 12
        }
      ]
    },
    {
      "cell_type": "code",
      "source": [
        "# [], list(); (), tuple(); set() - no {}; empty dictionary"
      ],
      "metadata": {
        "id": "QwFq2gfJPrTE"
      },
      "execution_count": 5,
      "outputs": []
    },
    {
      "cell_type": "code",
      "source": [
        "student = {'name': 'David', 'age': 16, 'coureses': ['Math', 'Physics']}\n",
        "\n",
        "student['name']  # keys can be anything that is hashable\n",
        "student.get('phone')  # None instead of error\n",
        "student.get('phone', 'No phone number')  # specify return value\n",
        "student['phone'] = '111-1111'  # add key\n",
        "\n",
        "student.update({'name': 'Bob', 'age': 20, 'phone': '555-5555'})  # courses stays same\n",
        "del student['age']\n",
        "removed_age_value = student.pop('age')  # value not key\n",
        "\n",
        "len(student)\n",
        "student.keys()\n",
        "student.values()\n",
        "student.items()"
      ],
      "metadata": {
        "colab": {
          "base_uri": "https://localhost:8080/"
        },
        "id": "6SVPCtRnSbIx",
        "outputId": "66ffa2ac-4490-48fa-c51e-3330ab970a8a"
      },
      "execution_count": 15,
      "outputs": [
        {
          "output_type": "execute_result",
          "data": {
            "text/plain": [
              "dict_items([('name', 'Bob'), ('coureses', ['Math', 'Physics']), ('phone', '555-5555')])"
            ]
          },
          "metadata": {},
          "execution_count": 15
        }
      ]
    }
  ]
}